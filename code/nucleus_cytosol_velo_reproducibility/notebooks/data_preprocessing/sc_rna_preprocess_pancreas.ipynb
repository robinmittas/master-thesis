{
 "cells": [
  {
   "attachments": {},
   "cell_type": "markdown",
   "metadata": {},
   "source": [
    "# Data Preprocessing\n",
    "\n",
    "This notebook reads in Pancreas scRNA-seq data, splits the data by day E14.5 and E15.5 and removes redundant information\n",
    "\n",
    "**Requires:**\n",
    "- `/vol/storage/data/pancreas_sc/pancreas_2019.h5ad`\n",
    "\n",
    "**Output:**\n",
    "- `/vol/storage/data/pancreas_sc/processed/gex_e14.5.h5ad`\n",
    "- `/vol/storage/data/pancreas_sc/processed/gex_e15.5.h5ad`"
   ]
  },
  {
   "attachments": {},
   "cell_type": "markdown",
   "metadata": {},
   "source": [
    "## Library imports"
   ]
  },
  {
   "cell_type": "code",
   "execution_count": 1,
   "metadata": {},
   "outputs": [],
   "source": [
    "import sys\n",
    "\n",
    "import scanpy as sc\n",
    "\n",
    "sys.path.append(\"../../\")\n",
    "from paths import DATA_DIR, FIG_DIR, PROJECT_DIR  # isort: skip  # noqa: E402,F401"
   ]
  },
  {
   "attachments": {},
   "cell_type": "markdown",
   "metadata": {},
   "source": [
    "## General settings"
   ]
  },
  {
   "cell_type": "code",
   "execution_count": 2,
   "metadata": {},
   "outputs": [],
   "source": [
    "CELLTYPES_TO_KEEP = [\n",
    "    \"Alpha\",\n",
    "    \"Beta\",\n",
    "    \"Delta\",\n",
    "    \"Ductal\",\n",
    "    \"Epsilon\",\n",
    "    \"Pre-endocrine\",\n",
    "    \"Ngn3 high EP\",\n",
    "    \"Ngn3 low EP\",\n",
    "]\n",
    "\n",
    "SC_RAW_DIR = PROJECT_DIR / \"pancreas_sc\" / \"raw\"\n",
    "SC_PROCESSED_DIR = PROJECT_DIR / \"pancreas_sc\" / \"processed\"\n",
    "\n",
    "# If Processed folder doesnt exist, create it first\n",
    "SC_PROCESSED_DIR.mkdir(exist_ok=True)"
   ]
  },
  {
   "attachments": {},
   "cell_type": "markdown",
   "metadata": {},
   "source": [
    "## Data loading"
   ]
  },
  {
   "cell_type": "code",
   "execution_count": 3,
   "metadata": {},
   "outputs": [
    {
     "data": {
      "text/plain": [
       "AnnData object with n_obs × n_vars = 20519 × 16206\n",
       "    obs: 'day', 'n_counts', 'log_counts', 'n_genes', 'mt_frac', 'proliferation', 'G2M_score', 'S_score', 'clusters_fig3_final', 'clusters_fig3_final_noep', 'clusters_fig4_final', 'clusters_fig2_final', 'clusters_fig6_broad_final', 'clusters_fig6_fine_final', 'clusters_fig6_alpha_final', 'celltype'\n",
       "    var: 'n_cells', 'highly_variable_genes', 'expression_mean', 'dispersion'\n",
       "    uns: 'clusters_fig6_fine_final_colors'\n",
       "    obsm: 'X_pca', 'X_umap'\n",
       "    varm: 'PCs'\n",
       "    layers: 'spliced', 'unspliced'\n",
       "    obsp: 'connectivities', 'distances'"
      ]
     },
     "execution_count": 3,
     "metadata": {},
     "output_type": "execute_result"
    }
   ],
   "source": [
    "# Read scRNA data\n",
    "adata_rna = sc.read(SC_RAW_DIR / \"pancreas_2019.h5ad\")\n",
    "adata_rna"
   ]
  },
  {
   "cell_type": "markdown",
   "metadata": {},
   "source": [
    "## Data processing and saving\n"
   ]
  },
  {
   "cell_type": "markdown",
   "metadata": {},
   "source": [
    "### E14.5"
   ]
  },
  {
   "cell_type": "code",
   "execution_count": 4,
   "metadata": {},
   "outputs": [
    {
     "data": {
      "text/plain": [
       "AnnData object with n_obs × n_vars = 5934 × 16206\n",
       "    obs: 'day', 'celltype', 'celltype_fine', 'protocol'\n",
       "    uns: 'celltype_colors', 'celltype_fine_colors'\n",
       "    layers: 'spliced', 'unspliced'"
      ]
     },
     "execution_count": 4,
     "metadata": {},
     "output_type": "execute_result"
    }
   ],
   "source": [
    "adata = adata_rna[adata_rna.obs[\"day\"].isin([\"14.5\"]), :]\n",
    "adata.obs = adata.obs.loc[:, [\"day\", \"celltype\"]].replace(\n",
    "    {\n",
    "        \"14.5\": \"E14.5\",\n",
    "        \"Ngn3 High early\": \"Ngn3 high EP\",\n",
    "        \"Ngn3 High late\": \"Ngn3 high EP\",\n",
    "        \"Fev+ Pyy\": \"Eps/Delta progenitors\",\n",
    "        \"Fev+ Epsilon\": \"Eps/Delta progenitors\",\n",
    "    }\n",
    ")\n",
    "adata.obs[\"celltype_fine\"] = adata.obs[\"celltype\"].copy()\n",
    "adata.obs[\"celltype\"].replace(\n",
    "    {\n",
    "        \"Fev+ Alpha\": \"Pre-endocrine\",\n",
    "        \"Fev+ Beta\": \"Pre-endocrine\",\n",
    "        \"Fev+ Delta\": \"Pre-endocrine\",\n",
    "        \"Eps/Delta progenitors\": \"Pre-endocrine\",\n",
    "    },\n",
    "    inplace=True,\n",
    ")\n",
    "adata.obs[\"protocol\"] = \"scRNA-seq\"\n",
    "adata.obs = adata.obs.astype({\"celltype\": \"category\", \"celltype_fine\": \"category\"})\n",
    "\n",
    "adata = adata[adata.obs[\"celltype\"].isin(CELLTYPES_TO_KEEP), :].copy()\n",
    "\n",
    "adata.var = adata.var.loc[:, []]\n",
    "adata.uns = {\n",
    "    \"celltype_colors\": {\n",
    "        \"Alpha\": \"#1f78b4\",\n",
    "        \"Beta\": \"#b2df8a\",\n",
    "        \"Delta\": \"#6a3d9a\",\n",
    "        \"Ductal\": \"#8fbc8f\",\n",
    "        \"Epsilon\": \"#cab2d6\",\n",
    "        \"Ngn3 high EP\": \"#fdbf6f\",\n",
    "        \"Ngn3 low EP\": \"#f4a460\",\n",
    "        \"Pre-endocrine\": \"#ff7f00\",\n",
    "    },\n",
    "    \"celltype_fine_colors\": {\n",
    "        \"Alpha\": \"#1f78b4\",\n",
    "        \"Beta\": \"#b2df8a\",\n",
    "        \"Delta\": \"#6a3d9a\",\n",
    "        \"Ductal\": \"#8fbc8f\",\n",
    "        \"Eps/Delta progenitors\": \"#029e73\",\n",
    "        \"Epsilon\": \"#cab2d6\",\n",
    "        \"Ngn3 high EP\": \"#fdbf6f\",\n",
    "        \"Ngn3 low EP\": \"#f4a460\",\n",
    "        \"Fev+ Alpha\": \"#d55e00\",\n",
    "        \"Fev+ Beta\": \"#cc78bc\",\n",
    "        \"Fev+ Delta\": \"#ca9161\",\n",
    "    },\n",
    "}\n",
    "\n",
    "adata.obsm = {}\n",
    "adata.obsp = {}\n",
    "adata.varm = {}\n",
    "\n",
    "adata.obs_names = adata.obs_names.str.replace(\"(-).*\", \"\", regex=True) + \"-e14.5-v2019\"\n",
    "\n",
    "adata"
   ]
  },
  {
   "cell_type": "code",
   "execution_count": 5,
   "metadata": {},
   "outputs": [],
   "source": [
    "adata.write(SC_PROCESSED_DIR / \"gex_e14.5.h5ad\")"
   ]
  },
  {
   "cell_type": "markdown",
   "metadata": {},
   "source": [
    "### E15.5"
   ]
  },
  {
   "cell_type": "code",
   "execution_count": 6,
   "metadata": {},
   "outputs": [
    {
     "data": {
      "text/plain": [
       "AnnData object with n_obs × n_vars = 3696 × 16206\n",
       "    obs: 'day', 'celltype', 'celltype_fine', 'protocol'\n",
       "    uns: 'celltype_colors', 'celltype_fine_colors'\n",
       "    layers: 'spliced', 'unspliced'"
      ]
     },
     "execution_count": 6,
     "metadata": {},
     "output_type": "execute_result"
    }
   ],
   "source": [
    "adata = adata_rna[adata_rna.obs[\"day\"].isin([\"15.5\"]), :]\n",
    "adata.obs = adata.obs.loc[:, [\"day\", \"celltype\"]].replace(\n",
    "    {\n",
    "        \"15.5\": \"E15.5\",\n",
    "        \"Ngn3 High early\": \"Ngn3 high EP\",\n",
    "        \"Ngn3 High late\": \"Ngn3 high EP\",\n",
    "        \"Fev+ Pyy\": \"Eps/Delta progenitors\",\n",
    "        \"Fev+ Epsilon\": \"Eps/Delta progenitors\",\n",
    "    }\n",
    ")\n",
    "adata.obs[\"celltype_fine\"] = adata.obs[\"celltype\"].copy()\n",
    "adata.obs[\"celltype\"].replace(\n",
    "    {\n",
    "        \"Fev+ Alpha\": \"Pre-endocrine\",\n",
    "        \"Fev+ Beta\": \"Pre-endocrine\",\n",
    "        \"Fev+ Delta\": \"Pre-endocrine\",\n",
    "        \"Eps/Delta progenitors\": \"Pre-endocrine\",\n",
    "    },\n",
    "    inplace=True,\n",
    ")\n",
    "adata.obs[\"protocol\"] = \"scRNA-seq\"\n",
    "adata.obs = adata.obs.astype({\"celltype\": \"category\", \"celltype_fine\": \"category\"})\n",
    "adata = adata[adata.obs[\"celltype\"].isin(CELLTYPES_TO_KEEP), :].copy()\n",
    "\n",
    "adata.var = adata.var.loc[:, []]\n",
    "\n",
    "adata.uns = {\n",
    "    \"celltype_colors\": {\n",
    "        \"Alpha\": \"#1f78b4\",\n",
    "        \"Beta\": \"#b2df8a\",\n",
    "        \"Delta\": \"#6a3d9a\",\n",
    "        \"Ductal\": \"#8fbc8f\",\n",
    "        \"Epsilon\": \"#cab2d6\",\n",
    "        \"Ngn3 high EP\": \"#fdbf6f\",\n",
    "        \"Ngn3 low EP\": \"#f4a460\",\n",
    "        \"Pre-endocrine\": \"#ff7f00\",\n",
    "    },\n",
    "    \"celltype_fine_colors\": {\n",
    "        \"Alpha\": \"#1f78b4\",\n",
    "        \"Beta\": \"#b2df8a\",\n",
    "        \"Delta\": \"#6a3d9a\",\n",
    "        \"Ductal\": \"#8fbc8f\",\n",
    "        \"Eps/Delta progenitors\": \"#029e73\",\n",
    "        \"Epsilon\": \"#cab2d6\",\n",
    "        \"Ngn3 high EP\": \"#fdbf6f\",\n",
    "        \"Ngn3 low EP\": \"#f4a460\",\n",
    "        \"Fev+ Alpha\": \"#d55e00\",\n",
    "        \"Fev+ Beta\": \"#cc78bc\",\n",
    "        \"Fev+ Delta\": \"#ca9161\",\n",
    "    },\n",
    "}\n",
    "\n",
    "adata.obsm = {}\n",
    "adata.obsp = {}\n",
    "adata.varm = {}\n",
    "\n",
    "adata.obs_names = adata.obs_names.str.replace(\"(-).*\", \"\", regex=True) + \"-e15.5-v2019\"\n",
    "\n",
    "adata"
   ]
  },
  {
   "cell_type": "code",
   "execution_count": 7,
   "metadata": {},
   "outputs": [],
   "source": [
    "adata.write(SC_PROCESSED_DIR / \"gex_e15.5.h5ad\")"
   ]
  }
 ],
 "metadata": {
  "kernelspec": {
   "display_name": "conda_env_robin",
   "language": "python",
   "name": "conda_env_robin"
  },
  "language_info": {
   "codemirror_mode": {
    "name": "ipython",
    "version": 3
   },
   "file_extension": ".py",
   "mimetype": "text/x-python",
   "name": "python",
   "nbconvert_exporter": "python",
   "pygments_lexer": "ipython3",
   "version": "3.9.16"
  }
 },
 "nbformat": 4,
 "nbformat_minor": 4
}
