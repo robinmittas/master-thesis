{
 "cells": [
  {
   "attachments": {},
   "cell_type": "markdown",
   "metadata": {},
   "source": [
    "# Data Preprocessing\n",
    "\n",
    "This notebook reads in Pancreas multiome data, removes redundant information and adds spliced/ unspliced counts from .loom files of day 14.5 and 15.5 respectivley\n",
    "\n",
    "**Requires:**\n",
    "- `/vol/storage/data/pancreas_multiome/raw/multiome/pancreas_multiome_2022_processed.h5ad`\n",
    "- `/vol/storage/data/pancreas_multiome/raw/multiome/pancreas_multiome_2022_processed.h5ad`\n",
    "- `/vol/storage/data/pancreas_multiome/raw/multiome/e14.5.loom`\n",
    "- `/vol/storage/data/pancreas_multiome/raw/multiome/e15.5.loom`\n",
    "\n",
    "**Output:**\n",
    "- `/vol/storage/data/pancreas_multiome/processed/gex_e14.5.h5ad`\n",
    "- `/vol/storage/data/pancreas_multiome/processed/gex_e15.5.h5ad`"
   ]
  },
  {
   "attachments": {},
   "cell_type": "markdown",
   "metadata": {},
   "source": [
    "## Library imports"
   ]
  },
  {
   "cell_type": "code",
   "execution_count": 1,
   "metadata": {},
   "outputs": [],
   "source": [
    "import sys\n",
    "\n",
    "import scanpy as sc\n",
    "\n",
    "sys.path.append(\"../../\")\n",
    "from paths import DATA_DIR, FIG_DIR, PROJECT_DIR  # isort: skip  # noqa: E402,F401"
   ]
  },
  {
   "attachments": {},
   "cell_type": "markdown",
   "metadata": {},
   "source": [
    "## General settings"
   ]
  },
  {
   "cell_type": "code",
   "execution_count": 2,
   "metadata": {},
   "outputs": [],
   "source": [
    "CELLTYPES_TO_KEEP = [\n",
    "    \"Alpha\",\n",
    "    \"Beta\",\n",
    "    \"Delta\",\n",
    "    \"Ductal\",\n",
    "    \"Eps/Delta progenitors\",\n",
    "    \"Epsilon\",\n",
    "    \"Fev+\",\n",
    "    \"Fev+ Alpha\",\n",
    "    \"Fev+ Beta\",\n",
    "    \"Fev+ Delta\",\n",
    "    \"Ngn3 high\",\n",
    "    \"Ngn3 low\",\n",
    "]\n",
    "\n",
    "SN_RAW_DIR = PROJECT_DIR / \"pancreas_multiome\" / \"raw\" / \"multiome\"\n",
    "SN_PROCESSED_DIR = PROJECT_DIR / \"pancreas_multiome\" / \"processed\"\n",
    "\n",
    "# If Processed folder doesnt exist, create it first\n",
    "SN_PROCESSED_DIR.mkdir(exist_ok=True)"
   ]
  },
  {
   "attachments": {},
   "cell_type": "markdown",
   "metadata": {},
   "source": [
    "## Data loading"
   ]
  },
  {
   "cell_type": "code",
   "execution_count": 3,
   "metadata": {},
   "outputs": [
    {
     "data": {
      "text/plain": [
       "AnnData object with n_obs × n_vars = 16918 × 242922\n",
       "    obs: 'n_counts', 'sample', 'n_genes', 'log_genes', 'mt_frac', 'rp_frac', 'ambi_frac', 'nCount_RNA', 'nFeature_RNA', 'nCount_ATAC', 'nFeature_ATAC', 'nucleosome_signal', 'nucleosome_percentile', 'TSS.enrichment', 'TSS.percentile', 'S_score', 'G2M_score', 'phase', 'proliferation', 'celltype', 'nCount_peaks', 'nFeature_peaks'\n",
       "    var: 'modality'\n",
       "    uns: 'celltype_colors', 'neighbors'\n",
       "    obsm: 'X_pca', 'X_pca_wsnn', 'X_spca_wsnn', 'X_umap', 'X_umap_ATAC', 'X_umap_GEX', 'X_umap_wsnn', 'lsi_full', 'lsi_red', 'umap', 'umap_ATAC', 'umap_GEX'\n",
       "    obsp: 'connectivities', 'connectivities_wnn', 'distances', 'distances_wnn'"
      ]
     },
     "execution_count": 3,
     "metadata": {},
     "output_type": "execute_result"
    }
   ],
   "source": [
    "# Read in multiome data\n",
    "adata_rna = sc.read(SN_RAW_DIR / \"pancreas_multiome_2022_processed.h5ad\")\n",
    "adata_rna"
   ]
  },
  {
   "cell_type": "markdown",
   "metadata": {},
   "source": [
    "## Data processing and saving\n"
   ]
  },
  {
   "cell_type": "markdown",
   "metadata": {},
   "source": [
    "### E14.5"
   ]
  },
  {
   "cell_type": "code",
   "execution_count": 4,
   "metadata": {},
   "outputs": [
    {
     "name": "stderr",
     "output_type": "stream",
     "text": [
      "/vol/storage/miniconda3/envs/conda_env_robin/lib/python3.9/site-packages/loompy/bus_file.py:68: NumbaDeprecationWarning: The 'nopython' keyword argument was not supplied to the 'numba.jit' decorator. The implicit default value for this argument is currently False, but it will be changed to True in Numba 0.59.0. See https://numba.readthedocs.io/en/stable/reference/deprecation.html#deprecation-of-object-mode-fall-back-behaviour-when-using-jit for details.\n",
      "  def twobit_to_dna(twobit: int, size: int) -> str:\n",
      "/vol/storage/miniconda3/envs/conda_env_robin/lib/python3.9/site-packages/loompy/bus_file.py:85: NumbaDeprecationWarning: The 'nopython' keyword argument was not supplied to the 'numba.jit' decorator. The implicit default value for this argument is currently False, but it will be changed to True in Numba 0.59.0. See https://numba.readthedocs.io/en/stable/reference/deprecation.html#deprecation-of-object-mode-fall-back-behaviour-when-using-jit for details.\n",
      "  def dna_to_twobit(dna: str) -> int:\n",
      "/vol/storage/miniconda3/envs/conda_env_robin/lib/python3.9/site-packages/loompy/bus_file.py:102: NumbaDeprecationWarning: The 'nopython' keyword argument was not supplied to the 'numba.jit' decorator. The implicit default value for this argument is currently False, but it will be changed to True in Numba 0.59.0. See https://numba.readthedocs.io/en/stable/reference/deprecation.html#deprecation-of-object-mode-fall-back-behaviour-when-using-jit for details.\n",
      "  def twobit_1hamming(twobit: int, size: int) -> List[int]:\n",
      "/vol/storage/miniconda3/envs/conda_env_robin/lib/python3.9/site-packages/anndata/_core/anndata.py:1840: UserWarning: Variable names are not unique. To make them unique, call `.var_names_make_unique`.\n",
      "  utils.warn_names_duplicates(\"var\")\n"
     ]
    },
    {
     "data": {
      "text/plain": [
       "AnnData object with n_obs × n_vars = 7212 × 14663\n",
       "    obs: 'day', 'celltype', 'celltype_fine', 'protocol'\n",
       "    uns: 'celltype_colors', 'celltype_fine_colors'\n",
       "    layers: 'unspliced', 'spliced'"
      ]
     },
     "execution_count": 4,
     "metadata": {},
     "output_type": "execute_result"
    }
   ],
   "source": [
    "adata = adata_rna[adata_rna.obs[\"sample\"].isin([\"E14.5\"]), :].copy()\n",
    "adata = adata[adata.obs[\"celltype\"].isin(CELLTYPES_TO_KEEP), :].copy()\n",
    "adata.obs = (\n",
    "    adata.obs.loc[:, [\"sample\", \"celltype\"]]\n",
    "    .rename({\"sample\": \"day\"}, axis=1)\n",
    "    .replace(\n",
    "        {\n",
    "            \"Ngn3 high\": \"Ngn3 high EP\",\n",
    "            \"Ngn3 low\": \"Ngn3 low EP\",\n",
    "        }\n",
    "    )\n",
    ")\n",
    "adata.obs[\"celltype_fine\"] = adata.obs[\"celltype\"].copy()\n",
    "adata.obs[\"celltype\"].replace(\n",
    "    {\n",
    "        \"Fev+\": \"Pre-endocrine\",\n",
    "        \"Fev+ Alpha\": \"Pre-endocrine\",\n",
    "        \"Fev+ Beta\": \"Pre-endocrine\",\n",
    "        \"Fev+ Delta\": \"Pre-endocrine\",\n",
    "        \"Eps/Delta progenitors\": \"Pre-endocrine\",\n",
    "    },\n",
    "    inplace=True,\n",
    ")\n",
    "adata.obs[\"protocol\"] = \"multiome\"\n",
    "adata.obs = adata.obs.astype({\"celltype\": \"category\", \"celltype_fine\": \"category\"})\n",
    "adata.var = adata.var.loc[:, []]\n",
    "\n",
    "adata.obsm = {}\n",
    "adata.varm = {}\n",
    "adata.layers = {}\n",
    "adata.obsp = {}\n",
    "\n",
    "\n",
    "adata.obs_names = adata.obs_names.str.replace(\"(-).*\", \"\", regex=True) + \"-e14.5-v2022\"\n",
    "\n",
    "_adata = sc.read_loom(SN_RAW_DIR / \"e14.5.loom\")\n",
    "_adata.var_names_make_unique()\n",
    "_adata.obs_names = _adata.obs_names.str.replace(\"^(.+?):\", \"\", regex=True).str.strip(\"x\") + \"-e14.5-v2022\"\n",
    "\n",
    "# check for common var_names and obs_names\n",
    "var_names_common = set(adata.var_names).intersection(set(_adata.var_names))\n",
    "obs_names_common = set(adata.obs_names).intersection(set(_adata.obs_names))\n",
    "\n",
    "# filter both and add unspliced/ spliced layers\n",
    "adata = adata[list(obs_names_common), list(var_names_common)]\n",
    "_adata = _adata[list(obs_names_common), list(var_names_common)]\n",
    "adata.layers[\"unspliced\"] = _adata[adata.obs_names, adata.var_names].layers[\"unspliced\"].copy()\n",
    "adata.layers[\"spliced\"] = _adata[adata.obs_names, adata.var_names].layers[\"spliced\"].copy()\n",
    "\n",
    "# Add color definitions for celltypes at very end\n",
    "adata.uns = {\n",
    "    \"celltype_colors\": {\n",
    "        \"Alpha\": \"#1f78b4\",\n",
    "        \"Beta\": \"#b2df8a\",\n",
    "        \"Delta\": \"#6a3d9a\",\n",
    "        \"Ductal\": \"#8fbc8f\",\n",
    "        \"Epsilon\": \"#cab2d6\",\n",
    "        \"Ngn3 high EP\": \"#fdbf6f\",\n",
    "        \"Ngn3 low EP\": \"#f4a460\",\n",
    "        \"Pre-endocrine\": \"#ff7f00\",\n",
    "    },\n",
    "    \"celltype_fine_colors\": {\n",
    "        \"Alpha\": \"#1f78b4\",\n",
    "        \"Beta\": \"#b2df8a\",\n",
    "        \"Delta\": \"#6a3d9a\",\n",
    "        \"Ductal\": \"#8fbc8f\",\n",
    "        \"Eps/Delta progenitors\": \"#029e73\",\n",
    "        \"Epsilon\": \"#cab2d6\",\n",
    "        \"Fev+\": \"#fbafe4\",\n",
    "        \"Ngn3 high EP\": \"#fdbf6f\",\n",
    "        \"Ngn3 low EP\": \"#f4a460\",\n",
    "        \"Fev+ Alpha\": \"#d55e00\",\n",
    "        \"Fev+ Beta\": \"#cc78bc\",\n",
    "        \"Fev+ Delta\": \"#ca9161\",\n",
    "    },\n",
    "}\n",
    "\n",
    "adata"
   ]
  },
  {
   "cell_type": "code",
   "execution_count": 5,
   "metadata": {},
   "outputs": [],
   "source": [
    "adata.write(SN_PROCESSED_DIR / \"gex_e14.5.h5ad\")"
   ]
  },
  {
   "cell_type": "markdown",
   "metadata": {},
   "source": [
    "### E15.5"
   ]
  },
  {
   "cell_type": "code",
   "execution_count": 6,
   "metadata": {},
   "outputs": [
    {
     "data": {
      "text/plain": [
       "AnnData object with n_obs × n_vars = 4716 × 14663\n",
       "    obs: 'day', 'celltype', 'celltype_fine', 'protocol'\n",
       "    uns: 'celltype_colors', 'celltype_fine_colors'\n",
       "    layers: 'unspliced', 'spliced'"
      ]
     },
     "execution_count": 6,
     "metadata": {},
     "output_type": "execute_result"
    }
   ],
   "source": [
    "adata = adata_rna[adata_rna.obs[\"sample\"].isin([\"E15.5\"]), :].copy()\n",
    "adata = adata[adata.obs[\"celltype\"].isin(CELLTYPES_TO_KEEP), :].copy()\n",
    "adata.obs = (\n",
    "    adata.obs.loc[:, [\"sample\", \"celltype\"]]\n",
    "    .rename({\"sample\": \"day\"}, axis=1)\n",
    "    .replace(\n",
    "        {\n",
    "            \"Ngn3 high\": \"Ngn3 high EP\",\n",
    "            \"Ngn3 low\": \"Ngn3 low EP\",\n",
    "        }\n",
    "    )\n",
    ")\n",
    "adata.obs[\"celltype_fine\"] = adata.obs[\"celltype\"].copy()\n",
    "adata.obs[\"celltype\"].replace(\n",
    "    {\n",
    "        \"Fev+\": \"Pre-endocrine\",\n",
    "        \"Fev+ Alpha\": \"Pre-endocrine\",\n",
    "        \"Fev+ Beta\": \"Pre-endocrine\",\n",
    "        \"Fev+ Delta\": \"Pre-endocrine\",\n",
    "        \"Eps/Delta progenitors\": \"Pre-endocrine\",\n",
    "    },\n",
    "    inplace=True,\n",
    ")\n",
    "adata.obs[\"protocol\"] = \"multiome\"\n",
    "adata.obs = adata.obs.astype({\"celltype\": \"category\", \"celltype_fine\": \"category\"})\n",
    "adata.var = adata.var.loc[:, []]\n",
    "\n",
    "adata.obsm = {}\n",
    "adata.varm = {}\n",
    "adata.layers = {}\n",
    "adata.obsp = {}\n",
    "\n",
    "adata.obs_names = adata.obs_names.str.replace(\"(-).*\", \"\", regex=True) + \"-e15.5-v2022\"\n",
    "\n",
    "_adata = sc.read_loom(SN_RAW_DIR / \"e15.5.loom\")\n",
    "_adata.var_names_make_unique()\n",
    "_adata.obs_names = _adata.obs_names.str.replace(\"^(.+?):\", \"\", regex=True).str.strip(\"x\") + \"-e15.5-v2022\"\n",
    "\n",
    "# check for common var_names and obs_names\n",
    "var_names_common = set(adata.var_names).intersection(set(_adata.var_names))\n",
    "obs_names_common = set(adata.obs_names).intersection(set(_adata.obs_names))\n",
    "\n",
    "# filter both and add unspliced/ spliced layers\n",
    "adata = adata[list(obs_names_common), list(var_names_common)]\n",
    "_adata = _adata[list(obs_names_common), list(var_names_common)]\n",
    "adata.layers[\"unspliced\"] = _adata[adata.obs_names, adata.var_names].layers[\"unspliced\"].copy()\n",
    "adata.layers[\"spliced\"] = _adata[adata.obs_names, adata.var_names].layers[\"spliced\"].copy()\n",
    "\n",
    "# Add color definitions for celltypes at very end\n",
    "adata.uns = {\n",
    "    \"celltype_colors\": {\n",
    "        \"Alpha\": \"#1f78b4\",\n",
    "        \"Beta\": \"#b2df8a\",\n",
    "        \"Delta\": \"#6a3d9a\",\n",
    "        \"Ductal\": \"#8fbc8f\",\n",
    "        \"Epsilon\": \"#cab2d6\",\n",
    "        \"Ngn3 high EP\": \"#fdbf6f\",\n",
    "        \"Ngn3 low EP\": \"#f4a460\",\n",
    "        \"Pre-endocrine\": \"#ff7f00\",\n",
    "    },\n",
    "    \"celltype_fine_colors\": {\n",
    "        \"Alpha\": \"#1f78b4\",\n",
    "        \"Beta\": \"#b2df8a\",\n",
    "        \"Delta\": \"#6a3d9a\",\n",
    "        \"Ductal\": \"#8fbc8f\",\n",
    "        \"Eps/Delta progenitors\": \"#029e73\",\n",
    "        \"Epsilon\": \"#cab2d6\",\n",
    "        \"Fev+\": \"#fbafe4\",\n",
    "        \"Ngn3 high EP\": \"#fdbf6f\",\n",
    "        \"Ngn3 low EP\": \"#f4a460\",\n",
    "        \"Fev+ Alpha\": \"#d55e00\",\n",
    "        \"Fev+ Beta\": \"#cc78bc\",\n",
    "        \"Fev+ Delta\": \"#ca9161\",\n",
    "    },\n",
    "}\n",
    "\n",
    "adata"
   ]
  },
  {
   "cell_type": "code",
   "execution_count": 7,
   "metadata": {},
   "outputs": [],
   "source": [
    "adata.write(SN_PROCESSED_DIR / \"gex_e15.5.h5ad\")"
   ]
  }
 ],
 "metadata": {
  "kernelspec": {
   "display_name": "conda_env_robin",
   "language": "python",
   "name": "conda_env_robin"
  },
  "language_info": {
   "codemirror_mode": {
    "name": "ipython",
    "version": 3
   },
   "file_extension": ".py",
   "mimetype": "text/x-python",
   "name": "python",
   "nbconvert_exporter": "python",
   "pygments_lexer": "ipython3",
   "version": "3.9.16"
  }
 },
 "nbformat": 4,
 "nbformat_minor": 4
}
