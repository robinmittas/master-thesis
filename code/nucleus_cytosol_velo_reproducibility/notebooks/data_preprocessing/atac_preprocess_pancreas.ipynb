{
 "cells": [
  {
   "cell_type": "markdown",
   "id": "7fcb4246-6a5c-4582-b750-e06d8e0f7b0b",
   "metadata": {},
   "source": [
    "# Data Preprocessing\n",
    "\n",
    "This notebook reads in Pancreas multiome data, removes redundant information and extracts the ATAC modality information which is needed for scglue to build a common latent space of scATAC and scRNA measurements.\n",
    "\n",
    "**Requires:**\n",
    "- `/vol/storage/data/pancreas_multiome/raw/multiome/pancreas_multiome_2022_processed.h5ad`\n",
    "\n",
    "**Output:**\n",
    "- `/vol/storage/data/pancreas_multiome/processed/atac_e14.5.h5ad`\n",
    "- `/vol/storage/data/pancreas_multiome/processed/atac_e15.5.h5ad`"
   ]
  },
  {
   "cell_type": "markdown",
   "id": "06d0ce86-d884-4100-ae78-661a4a1c1d88",
   "metadata": {},
   "source": [
    "## Library Imports"
   ]
  },
  {
   "cell_type": "code",
   "execution_count": 1,
   "id": "ef03b36b-d4cf-492b-bf31-78ae86f68730",
   "metadata": {},
   "outputs": [],
   "source": [
    "import sys\n",
    "\n",
    "import scanpy as sc\n",
    "\n",
    "sys.path.append(\"../../\")\n",
    "from paths import DATA_DIR, FIG_DIR, PROJECT_DIR  # isort: skip  # noqa: E402,F401"
   ]
  },
  {
   "cell_type": "markdown",
   "id": "e22c95df-454c-436d-a36e-78feabc16a25",
   "metadata": {},
   "source": [
    "## General settings"
   ]
  },
  {
   "cell_type": "code",
   "execution_count": 2,
   "id": "0aa4aaec-895c-40d7-be6d-6a93d6b060f5",
   "metadata": {},
   "outputs": [],
   "source": [
    "CELLTYPES_TO_KEEP = [\n",
    "    \"Alpha\",\n",
    "    \"Beta\",\n",
    "    \"Delta\",\n",
    "    \"Ductal\",\n",
    "    \"Eps/Delta progenitors\",\n",
    "    \"Epsilon\",\n",
    "    \"Fev+\",\n",
    "    \"Fev+ Alpha\",\n",
    "    \"Fev+ Beta\",\n",
    "    \"Fev+ Delta\",\n",
    "    \"Ngn3 high\",\n",
    "    \"Ngn3 low\",\n",
    "]\n",
    "\n",
    "SN_RAW_DIR = PROJECT_DIR / \"pancreas_multiome\" / \"raw\" / \"multiome\"\n",
    "SN_PROCESSED_DIR = PROJECT_DIR / \"pancreas_multiome\" / \"processed\"\n",
    "\n",
    "# If Processed folder doesnt exist, create it first\n",
    "SN_PROCESSED_DIR.mkdir(exist_ok=True)"
   ]
  },
  {
   "cell_type": "markdown",
   "id": "639f080c-1c28-4794-8879-9ab1a489b8c6",
   "metadata": {},
   "source": [
    "## Data loading"
   ]
  },
  {
   "cell_type": "code",
   "execution_count": 3,
   "id": "a5309589-aa6b-493f-8235-04e0cb649763",
   "metadata": {},
   "outputs": [
    {
     "data": {
      "text/plain": [
       "AnnData object with n_obs × n_vars = 16918 × 242922\n",
       "    obs: 'n_counts', 'sample', 'n_genes', 'log_genes', 'mt_frac', 'rp_frac', 'ambi_frac', 'nCount_RNA', 'nFeature_RNA', 'nCount_ATAC', 'nFeature_ATAC', 'nucleosome_signal', 'nucleosome_percentile', 'TSS.enrichment', 'TSS.percentile', 'S_score', 'G2M_score', 'phase', 'proliferation', 'celltype', 'nCount_peaks', 'nFeature_peaks'\n",
       "    var: 'modality'\n",
       "    uns: 'celltype_colors', 'neighbors'\n",
       "    obsm: 'X_pca', 'X_pca_wsnn', 'X_spca_wsnn', 'X_umap', 'X_umap_ATAC', 'X_umap_GEX', 'X_umap_wsnn', 'lsi_full', 'lsi_red', 'umap', 'umap_ATAC', 'umap_GEX'\n",
       "    obsp: 'connectivities', 'connectivities_wnn', 'distances', 'distances_wnn'"
      ]
     },
     "execution_count": 3,
     "metadata": {},
     "output_type": "execute_result"
    }
   ],
   "source": [
    "# Read in multiome data\n",
    "adata_rna = sc.read(SN_RAW_DIR / \"pancreas_multiome_2022_processed.h5ad\")\n",
    "adata_rna"
   ]
  },
  {
   "cell_type": "markdown",
   "id": "3ad8f1f6-dce2-4be6-96ca-1990468cb8c2",
   "metadata": {},
   "source": [
    "## Data processing and saving"
   ]
  },
  {
   "cell_type": "markdown",
   "id": "616cfc0c-b66b-454c-ba17-ec6f57b2a95a",
   "metadata": {},
   "source": [
    "### E14.5"
   ]
  },
  {
   "cell_type": "code",
   "execution_count": 4,
   "id": "53e8918f-cb08-460e-bb54-7e6823d0aedc",
   "metadata": {},
   "outputs": [
    {
     "data": {
      "text/plain": [
       "AnnData object with n_obs × n_vars = 7212 × 228259\n",
       "    obs: 'day', 'celltype', 'celltype_fine'\n",
       "    var: 'modality'\n",
       "    uns: 'celltype_colors', 'celltype_fine_colors'\n",
       "    layers: 'count'"
      ]
     },
     "execution_count": 4,
     "metadata": {},
     "output_type": "execute_result"
    }
   ],
   "source": [
    "adata = adata_rna[adata_rna.obs[\"sample\"].isin([\"E14.5\"]), :].copy()\n",
    "atac_vars = adata.var_names[adata.var[\"modality\"] == \"ATAC\"]\n",
    "adata = adata[:, list(atac_vars)]\n",
    "\n",
    "adata = adata[adata.obs[\"celltype\"].isin(CELLTYPES_TO_KEEP), :].copy()\n",
    "adata.obs = (\n",
    "    adata.obs.loc[:, [\"sample\", \"celltype\"]]\n",
    "    .rename({\"sample\": \"day\"}, axis=1)\n",
    "    .replace(\n",
    "        {\n",
    "            \"Ngn3 high\": \"Ngn3 high EP\",\n",
    "            \"Ngn3 low\": \"Ngn3 low EP\",\n",
    "        }\n",
    "    )\n",
    ")\n",
    "adata.obs[\"celltype_fine\"] = adata.obs[\"celltype\"].copy()\n",
    "adata.obs[\"celltype\"].replace(\n",
    "    {\n",
    "        \"Fev+\": \"Pre-endocrine\",\n",
    "        \"Fev+ Alpha\": \"Pre-endocrine\",\n",
    "        \"Fev+ Beta\": \"Pre-endocrine\",\n",
    "        \"Fev+ Delta\": \"Pre-endocrine\",\n",
    "        \"Eps/Delta progenitors\": \"Pre-endocrine\",\n",
    "    },\n",
    "    inplace=True,\n",
    ")\n",
    "\n",
    "adata.obs = adata.obs.astype({\"celltype\": \"category\", \"celltype_fine\": \"category\"})\n",
    "adata.obsm = {}\n",
    "adata.varm = {}\n",
    "adata.layers = {}\n",
    "adata.obsp = {}\n",
    "adata.obs_names = adata.obs_names.str.replace(\"(-).*\", \"\", regex=True) + \"-e14.5-v2022\"\n",
    "adata.layers[\"count\"] = adata.X\n",
    "\n",
    "# Add color definitions for celltypes at very end\n",
    "adata.uns = {\n",
    "    \"celltype_colors\": {\n",
    "        \"Alpha\": \"#1f78b4\",\n",
    "        \"Beta\": \"#b2df8a\",\n",
    "        \"Delta\": \"#6a3d9a\",\n",
    "        \"Ductal\": \"#8fbc8f\",\n",
    "        \"Epsilon\": \"#cab2d6\",\n",
    "        \"Ngn3 high EP\": \"#fdbf6f\",\n",
    "        \"Ngn3 low EP\": \"#f4a460\",\n",
    "        \"Pre-endocrine\": \"#ff7f00\",\n",
    "    },\n",
    "    \"celltype_fine_colors\": {\n",
    "        \"Alpha\": \"#1f78b4\",\n",
    "        \"Beta\": \"#b2df8a\",\n",
    "        \"Delta\": \"#6a3d9a\",\n",
    "        \"Ductal\": \"#8fbc8f\",\n",
    "        \"Eps/Delta progenitors\": \"#029e73\",\n",
    "        \"Epsilon\": \"#cab2d6\",\n",
    "        \"Fev+\": \"#fbafe4\",\n",
    "        \"Ngn3 high EP\": \"#fdbf6f\",\n",
    "        \"Ngn3 low EP\": \"#f4a460\",\n",
    "        \"Fev+ Alpha\": \"#d55e00\",\n",
    "        \"Fev+ Beta\": \"#cc78bc\",\n",
    "        \"Fev+ Delta\": \"#ca9161\",\n",
    "    },\n",
    "}\n",
    "\n",
    "adata"
   ]
  },
  {
   "cell_type": "code",
   "execution_count": 5,
   "id": "c4c9ea53-c7a9-40f3-bc57-239df3083356",
   "metadata": {},
   "outputs": [],
   "source": [
    "adata.write(SN_PROCESSED_DIR / \"atac_e14.5.h5ad\")"
   ]
  },
  {
   "cell_type": "markdown",
   "id": "0a18b3c4-698d-4a9a-be77-4a252d4dea86",
   "metadata": {},
   "source": [
    "### E15.5"
   ]
  },
  {
   "cell_type": "code",
   "execution_count": 6,
   "id": "752d257b-4e5d-4dad-a6ae-091d6856e3f3",
   "metadata": {},
   "outputs": [
    {
     "data": {
      "text/plain": [
       "AnnData object with n_obs × n_vars = 4716 × 228259\n",
       "    obs: 'day', 'celltype', 'celltype_fine'\n",
       "    var: 'modality'\n",
       "    uns: 'celltype_colors', 'celltype_fine_colors'\n",
       "    layers: 'count'"
      ]
     },
     "execution_count": 6,
     "metadata": {},
     "output_type": "execute_result"
    }
   ],
   "source": [
    "adata = adata_rna[adata_rna.obs[\"sample\"].isin([\"E15.5\"]), :].copy()\n",
    "atac_vars = adata.var_names[adata.var[\"modality\"] == \"ATAC\"]\n",
    "adata = adata[:, list(atac_vars)]\n",
    "\n",
    "adata = adata[adata.obs[\"celltype\"].isin(CELLTYPES_TO_KEEP), :].copy()\n",
    "adata.obs = (\n",
    "    adata.obs.loc[:, [\"sample\", \"celltype\"]]\n",
    "    .rename({\"sample\": \"day\"}, axis=1)\n",
    "    .replace(\n",
    "        {\n",
    "            \"Ngn3 high\": \"Ngn3 high EP\",\n",
    "            \"Ngn3 low\": \"Ngn3 low EP\",\n",
    "        }\n",
    "    )\n",
    ")\n",
    "adata.obs[\"celltype_fine\"] = adata.obs[\"celltype\"].copy()\n",
    "adata.obs[\"celltype\"].replace(\n",
    "    {\n",
    "        \"Fev+\": \"Pre-endocrine\",\n",
    "        \"Fev+ Alpha\": \"Pre-endocrine\",\n",
    "        \"Fev+ Beta\": \"Pre-endocrine\",\n",
    "        \"Fev+ Delta\": \"Pre-endocrine\",\n",
    "        \"Eps/Delta progenitors\": \"Pre-endocrine\",\n",
    "    },\n",
    "    inplace=True,\n",
    ")\n",
    "\n",
    "adata.obs = adata.obs.astype({\"celltype\": \"category\", \"celltype_fine\": \"category\"})\n",
    "adata.obsm = {}\n",
    "adata.varm = {}\n",
    "adata.layers = {}\n",
    "adata.obsp = {}\n",
    "adata.obs_names = adata.obs_names.str.replace(\"(-).*\", \"\", regex=True) + \"-e15.5-v2022\"\n",
    "adata.layers[\"count\"] = adata.X\n",
    "\n",
    "# Add color definitions for celltypes at very end\n",
    "adata.uns = {\n",
    "    \"celltype_colors\": {\n",
    "        \"Alpha\": \"#1f78b4\",\n",
    "        \"Beta\": \"#b2df8a\",\n",
    "        \"Delta\": \"#6a3d9a\",\n",
    "        \"Ductal\": \"#8fbc8f\",\n",
    "        \"Epsilon\": \"#cab2d6\",\n",
    "        \"Ngn3 high EP\": \"#fdbf6f\",\n",
    "        \"Ngn3 low EP\": \"#f4a460\",\n",
    "        \"Pre-endocrine\": \"#ff7f00\",\n",
    "    },\n",
    "    \"celltype_fine_colors\": {\n",
    "        \"Alpha\": \"#1f78b4\",\n",
    "        \"Beta\": \"#b2df8a\",\n",
    "        \"Delta\": \"#6a3d9a\",\n",
    "        \"Ductal\": \"#8fbc8f\",\n",
    "        \"Eps/Delta progenitors\": \"#029e73\",\n",
    "        \"Epsilon\": \"#cab2d6\",\n",
    "        \"Fev+\": \"#fbafe4\",\n",
    "        \"Ngn3 high EP\": \"#fdbf6f\",\n",
    "        \"Ngn3 low EP\": \"#f4a460\",\n",
    "        \"Fev+ Alpha\": \"#d55e00\",\n",
    "        \"Fev+ Beta\": \"#cc78bc\",\n",
    "        \"Fev+ Delta\": \"#ca9161\",\n",
    "    },\n",
    "}\n",
    "\n",
    "adata"
   ]
  },
  {
   "cell_type": "code",
   "execution_count": 7,
   "id": "117202df-32fe-4f7a-b269-0c5398b59ae4",
   "metadata": {},
   "outputs": [],
   "source": [
    "adata.write(SN_PROCESSED_DIR / \"atac_e15.5.h5ad\")"
   ]
  }
 ],
 "metadata": {
  "kernelspec": {
   "display_name": "conda_env_robin",
   "language": "python",
   "name": "conda_env_robin"
  },
  "language_info": {
   "codemirror_mode": {
    "name": "ipython",
    "version": 3
   },
   "file_extension": ".py",
   "mimetype": "text/x-python",
   "name": "python",
   "nbconvert_exporter": "python",
   "pygments_lexer": "ipython3",
   "version": "3.9.16"
  }
 },
 "nbformat": 4,
 "nbformat_minor": 5
}
